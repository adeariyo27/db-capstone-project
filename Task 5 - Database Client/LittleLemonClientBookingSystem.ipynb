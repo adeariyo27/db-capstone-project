{
  "cells": [
    {
      "cell_type": "markdown",
      "metadata": {
        "id": "8XB5gFhphxHQ"
      },
      "source": [
        "**Scenario**\n",
        "\n",
        "Little Lemon needs you to help them to build a functional Booking System from which they can manage their customer data. An integral part of a well-functioning system is the ability to query data. Little Lemon need you to help them add the search functionality required to query their data. Use your knowledge of database clients to help Little Lemon complete these task."
      ]
    },
    {
      "cell_type": "markdown",
      "metadata": {
        "id": "wuiIJcqnhxHV"
      },
      "source": [
        "**Task 1 :**\n",
        "\n",
        "Your first task is to import the connector module, enter your user details, connect with the database and instantiate an instance of cursor to pass queries and return results."
      ]
    },
    {
      "cell_type": "markdown",
      "metadata": {
        "id": "dzdorCxYhxHW"
      },
      "source": [
        "**Establishing a Connection :**"
      ]
    },
    {
      "cell_type": "code",
      "execution_count": 1,
      "metadata": {
        "colab": {
          "base_uri": "https://localhost:8080/"
        },
        "id": "2wzZ3nKBjqM9",
        "outputId": "f538743e-41fc-4e26-b32d-bf25511ae1d5"
      },
      "outputs": [
        {
          "name": "stdout",
          "output_type": "stream",
          "text": [
            "Requirement already satisfied: mysql-connector-python in c:\\users\\adeha\\appdata\\local\\programs\\python\\python311\\lib\\site-packages (8.4.0)\n",
            "Note: you may need to restart the kernel to use updated packages.\n"
          ]
        },
        {
          "name": "stderr",
          "output_type": "stream",
          "text": [
            "\n",
            "[notice] A new release of pip is available: 23.1.2 -> 24.0\n",
            "[notice] To update, run: python.exe -m pip install --upgrade pip\n"
          ]
        }
      ],
      "source": [
        "pip install mysql-connector-python"
      ]
    },
    {
      "cell_type": "code",
      "execution_count": 2,
      "metadata": {
        "id": "geIw1biChxHW"
      },
      "outputs": [],
      "source": [
        "# Importing MySQL Connector/Python\n",
        "\n",
        "import mysql.connector as connector\n",
        "from mysql.connector import Error"
      ]
    },
    {
      "cell_type": "code",
      "execution_count": 6,
      "metadata": {
        "id": "uQ3pFea6hxHX"
      },
      "outputs": [
        {
          "name": "stdout",
          "output_type": "stream",
          "text": [
            "Connection between MySQL and Python is established.\n",
            "\n"
          ]
        }
      ],
      "source": [
        "# Establishing connection between Python and MySQL database via connector API\n",
        "\n",
        "try:\n",
        "    connection=connector.connect(user=\"root\",password=\"\",database=\"LittleLemonDB\")\n",
        "except Error as er:\n",
        "    print(er.msg)\n",
        "\n",
        "print(\"Connection between MySQL and Python is established.\\n\")"
      ]
    },
    {
      "cell_type": "markdown",
      "metadata": {
        "id": "K1ofuKyehxHY"
      },
      "source": [
        "**Creating a Cursor :**"
      ]
    },
    {
      "cell_type": "code",
      "execution_count": 7,
      "metadata": {
        "id": "jjXnJlxBhxHZ"
      },
      "outputs": [
        {
          "name": "stdout",
          "output_type": "stream",
          "text": [
            "Cursor is created to communicate with the MySQL using Python.\n"
          ]
        }
      ],
      "source": [
        "# Creating cursor object to communicate with entire MySQL database\n",
        "\n",
        "cursor = connection.cursor()\n",
        "print(\"Cursor is created to communicate with the MySQL using Python.\")"
      ]
    },
    {
      "cell_type": "markdown",
      "metadata": {
        "id": "-pt-JKbZhxHa"
      },
      "source": [
        "**Setting the Database for use :**"
      ]
    },
    {
      "cell_type": "code",
      "execution_count": 8,
      "metadata": {
        "id": "ingy2ljdhxHb",
        "outputId": "a97895a3-22df-4609-94fc-247c6ed16676"
      },
      "outputs": [
        {
          "name": "stdout",
          "output_type": "stream",
          "text": [
            "The database LittleLemonDB is set for use.\n"
          ]
        }
      ],
      "source": [
        "# Set LittleLemonDB database for use\n",
        "\n",
        "cursor.execute(\"USE LittleLemonDB\")\n",
        "connection.database\n",
        "print(\"The database LittleLemonDB is set for use.\")"
      ]
    },
    {
      "cell_type": "markdown",
      "metadata": {
        "id": "tlzo3xz_hxHc"
      },
      "source": [
        "**Task 2 :**\n",
        "\n",
        "In this second task, you now need to query the database to show all tables within the database."
      ]
    },
    {
      "cell_type": "code",
      "execution_count": 9,
      "metadata": {
        "id": "cut6Z1bqhxHc",
        "outputId": "5df52b10-9c4a-4a7a-c2ca-5558debe1033"
      },
      "outputs": [
        {
          "name": "stdout",
          "output_type": "stream",
          "text": [
            "('Tables_in_littlelemondb',)\n",
            "('bookings',)\n",
            "('customers',)\n",
            "('employees',)\n",
            "('menuitems',)\n",
            "('menus',)\n",
            "('orders',)\n",
            "('ordersview1',)\n",
            "('ordersview2',)\n",
            "('ordersview3',)\n"
          ]
        }
      ],
      "source": [
        "show_tables_query = \"SHOW TABLES;\"\n",
        "\n",
        "cursor.execute(show_tables_query)\n",
        "\n",
        "results=cursor.fetchall()\n",
        "\n",
        "columns=cursor.column_names\n",
        "\n",
        "print(columns)\n",
        "for result in results:\n",
        "    print(result)"
      ]
    },
    {
      "cell_type": "markdown",
      "metadata": {
        "id": "LJrxC_h-hxHc"
      },
      "source": [
        "**Task 3 :**\n",
        "\n",
        "**Query with table JOIN**\n",
        "\n",
        "For the third and final task, Little Lemon need you to return specific details from your database. They require the full name and contact details for every customer that has placed an order greater than $60 for a promotional campaign."
      ]
    },
    {
      "cell_type": "markdown",
      "metadata": {
        "id": "6ZDNdvfEhxHd"
      },
      "source": [
        "Creating Join Query"
      ]
    },
    {
      "cell_type": "code",
      "execution_count": 25,
      "metadata": {
        "id": "rUtEoFZdhxHd"
      },
      "outputs": [],
      "source": [
        "join_query = \"\"\" SELECT Customers.FullName,\n",
        "Customers.ContactNumber,\n",
        "Orders.TotalCost\n",
        "FROM Customers\n",
        "LEFT JOIN Orders\n",
        "ON Customers.CustomerID = Orders.CustomerID\n",
        "WHERE Orders.TotalCost > 60;\n",
        "\"\"\""
      ]
    },
    {
      "cell_type": "markdown",
      "metadata": {
        "id": "Qx8N2JgfhxHd"
      },
      "source": [
        "Running the query by invoking execute module on the cursor."
      ]
    },
    {
      "cell_type": "code",
      "execution_count": 26,
      "metadata": {
        "id": "HK_8N-BJhxHd"
      },
      "outputs": [],
      "source": [
        "cursor.execute(join_query)"
      ]
    },
    {
      "cell_type": "markdown",
      "metadata": {
        "id": "J-QzEE4jhxHe"
      },
      "source": [
        "Fetching the results in a variable called \"results\"."
      ]
    },
    {
      "cell_type": "code",
      "execution_count": 27,
      "metadata": {
        "id": "Jotv8PvuhxHe"
      },
      "outputs": [],
      "source": [
        "results = cursor.fetchall()"
      ]
    },
    {
      "cell_type": "markdown",
      "metadata": {
        "id": "SiN4X_0shxHe"
      },
      "source": [
        "Extracting the names of the columns."
      ]
    },
    {
      "cell_type": "code",
      "execution_count": 28,
      "metadata": {
        "id": "RdqzmHeohxHe"
      },
      "outputs": [],
      "source": [
        "columns=cursor.column_names"
      ]
    },
    {
      "cell_type": "markdown",
      "metadata": {
        "id": "shb-8IzNhxHe"
      },
      "source": [
        "Printing the names of the columns and the stored data using the \"for\" loop."
      ]
    },
    {
      "cell_type": "code",
      "execution_count": 29,
      "metadata": {
        "id": "2nRQ7GjlhxHf",
        "outputId": "73100eb9-9692-40a7-dfe3-95c1836cc4a4"
      },
      "outputs": [
        {
          "name": "stdout",
          "output_type": "stream",
          "text": [
            "('FullName', 'ContactNumber', 'TotalCost')\n",
            "('Anna Iversen', 333333, 250)\n",
            "('Joakim Iversen', 444444, 200)\n",
            "('Vanessa McCarthy', 111111, 100)\n",
            "('Marcos Romero', 222222, 150)\n"
          ]
        }
      ],
      "source": [
        "print(columns)\n",
        "for result in results:\n",
        "    print(result)"
      ]
    },
    {
      "cell_type": "markdown",
      "metadata": {
        "id": "orbOKwW4hxHf"
      },
      "source": [
        "Closing the Connection between Python and MySQL database."
      ]
    },
    {
      "cell_type": "code",
      "execution_count": 30,
      "metadata": {
        "id": "tU0EcHT1hxHf",
        "outputId": "f7734770-b5cb-46f4-916d-5cb863bf7432"
      },
      "outputs": [
        {
          "name": "stdout",
          "output_type": "stream",
          "text": [
            "The cursor is closed.\n",
            "MySQL connection is closed.\n"
          ]
        }
      ],
      "source": [
        "if connection.is_connected():\n",
        "    cursor.close()\n",
        "    print(\"The cursor is closed.\")\n",
        "    connection.close()\n",
        "    print(\"MySQL connection is closed.\")\n",
        "else:\n",
        "    print(\"Connection is already closed\")"
      ]
    }
  ],
  "metadata": {
    "colab": {
      "provenance": []
    },
    "kernelspec": {
      "display_name": "base",
      "language": "python",
      "name": "python3"
    },
    "language_info": {
      "codemirror_mode": {
        "name": "ipython",
        "version": 3
      },
      "file_extension": ".py",
      "mimetype": "text/x-python",
      "name": "python",
      "nbconvert_exporter": "python",
      "pygments_lexer": "ipython3",
      "version": "3.11.4"
    },
    "orig_nbformat": 4
  },
  "nbformat": 4,
  "nbformat_minor": 0
}
